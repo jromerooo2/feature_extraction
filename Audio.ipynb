{
  "nbformat": 4,
  "nbformat_minor": 0,
  "metadata": {
    "colab": {
      "provenance": [],
      "include_colab_link": true
    },
    "kernelspec": {
      "name": "python3",
      "display_name": "Python 3"
    },
    "language_info": {
      "name": "python"
    },
    "accelerator": "GPU"
  },
  "cells": [
    {
      "cell_type": "markdown",
      "metadata": {
        "id": "view-in-github",
        "colab_type": "text"
      },
      "source": [
        "<a href=\"https://colab.research.google.com/github/jromerooo2/feature_extraction/blob/main/Audio.ipynb\" target=\"_parent\"><img src=\"https://colab.research.google.com/assets/colab-badge.svg\" alt=\"Open In Colab\"/></a>"
      ]
    },
    {
      "cell_type": "code",
      "metadata": {
        "colab": {
          "base_uri": "https://localhost:8080/"
        },
        "id": "Gn1MrAwGGkyY",
        "collapsed": true,
        "outputId": "36431d6a-f459-4f43-88eb-259ac41f0616"
      },
      "source": [
        "! git clone https://github.com/v-iashin/video_features.git\n",
        "! pip install omegaconf==2.0.6\n",
        "! pip install resampy"
      ],
      "execution_count": null,
      "outputs": [
        {
          "output_type": "stream",
          "name": "stdout",
          "text": [
            "Cloning into 'video_features'...\n",
            "remote: Enumerating objects: 1299, done.\u001b[K\n",
            "remote: Counting objects: 100% (420/420), done.\u001b[K\n",
            "remote: Compressing objects: 100% (189/189), done.\u001b[K\n",
            "remote: Total 1299 (delta 264), reused 322 (delta 215), pack-reused 879\u001b[K\n",
            "Receiving objects: 100% (1299/1299), 288.63 MiB | 18.27 MiB/s, done.\n",
            "Resolving deltas: 100% (671/671), done.\n",
            "Updating files: 100% (177/177), done.\n",
            "Collecting omegaconf==2.0.6\n",
            "  Downloading omegaconf-2.0.6-py3-none-any.whl (36 kB)\n",
            "Requirement already satisfied: PyYAML>=5.1.* in /usr/local/lib/python3.10/dist-packages (from omegaconf==2.0.6) (6.0)\n",
            "Requirement already satisfied: typing-extensions in /usr/local/lib/python3.10/dist-packages (from omegaconf==2.0.6) (4.6.3)\n",
            "Installing collected packages: omegaconf\n",
            "Successfully installed omegaconf-2.0.6\n",
            "Collecting resampy\n",
            "  Downloading resampy-0.4.2-py3-none-any.whl (3.1 MB)\n",
            "\u001b[2K     \u001b[90m━━━━━━━━━━━━━━━━━━━━━━━━━━━━━━━━━━━━━━━━\u001b[0m \u001b[32m3.1/3.1 MB\u001b[0m \u001b[31m67.0 MB/s\u001b[0m eta \u001b[36m0:00:00\u001b[0m\n",
            "\u001b[?25hRequirement already satisfied: numpy>=1.17 in /usr/local/lib/python3.10/dist-packages (from resampy) (1.22.4)\n",
            "Requirement already satisfied: numba>=0.53 in /usr/local/lib/python3.10/dist-packages (from resampy) (0.56.4)\n",
            "Requirement already satisfied: llvmlite<0.40,>=0.39.0dev0 in /usr/local/lib/python3.10/dist-packages (from numba>=0.53->resampy) (0.39.1)\n",
            "Requirement already satisfied: setuptools in /usr/local/lib/python3.10/dist-packages (from numba>=0.53->resampy) (67.7.2)\n",
            "Installing collected packages: resampy\n",
            "Successfully installed resampy-0.4.2\n"
          ]
        }
      ]
    },
    {
      "cell_type": "code",
      "metadata": {
        "colab": {
          "base_uri": "https://localhost:8080/"
        },
        "id": "Uq-_J-msB8Px",
        "outputId": "2003a939-c59a-47ea-9351-21b044f099ec"
      },
      "source": [
        "%cd video_features"
      ],
      "execution_count": null,
      "outputs": [
        {
          "output_type": "stream",
          "name": "stdout",
          "text": [
            "/content/video_features\n"
          ]
        }
      ]
    },
    {
      "cell_type": "markdown",
      "source": [
        "To Properly Run: Please drop the files under the folder named sample inside of the video_features git clone."
      ],
      "metadata": {
        "id": "UNpEqLjSlLHo"
      }
    },
    {
      "cell_type": "code",
      "source": [
        "import os\n",
        "\n",
        "folder_path = 'sample/'\n",
        "\n",
        "files = os.listdir(folder_path)\n",
        "\n",
        "output_file = 'file_paths.txt'\n",
        "\n",
        "with open(output_file, 'w') as f:\n",
        "    for file_name in files:\n",
        "        file_path = os.path.join(folder_path, file_name)\n",
        "        f.write(file_path + '\\n')\n",
        "\n",
        "print(\"everything written to:\", output_file)\n"
      ],
      "metadata": {
        "colab": {
          "base_uri": "https://localhost:8080/"
        },
        "id": "gSlKXkQ8mAaQ",
        "outputId": "9eab3723-86dd-475b-f15b-36003137a112"
      },
      "execution_count": null,
      "outputs": [
        {
          "output_type": "stream",
          "name": "stdout",
          "text": [
            "everything written to: file_paths.txt\n"
          ]
        }
      ]
    },
    {
      "cell_type": "code",
      "metadata": {
        "id": "6Czo1UciGomZ",
        "colab": {
          "base_uri": "https://localhost:8080/",
          "height": 35
        },
        "outputId": "b776e08f-2f96-42dd-9459-dafc1611c814"
      },
      "source": [
        "from models.vggish.extract_vggish import ExtractVGGish\n",
        "from utils.utils import build_cfg_path\n",
        "import numpy as np\n",
        "from omegaconf import OmegaConf\n",
        "import torch\n",
        "import os\n",
        "\n",
        "device = 'cuda' if torch.cuda.is_available() else 'cpu'\n",
        "torch.cuda.get_device_name(0)"
      ],
      "execution_count": null,
      "outputs": [
        {
          "output_type": "execute_result",
          "data": {
            "text/plain": [
              "'Tesla T4'"
            ],
            "application/vnd.google.colaboratory.intrinsic+json": {
              "type": "string"
            }
          },
          "metadata": {},
          "execution_count": 10
        }
      ]
    },
    {
      "cell_type": "code",
      "metadata": {
        "id": "iMwy01A8w9nP"
      },
      "source": [
        "feature_type = 'vggish'\n",
        "\n",
        "args = OmegaConf.load(build_cfg_path(feature_type))\n",
        "\n",
        "extractor = ExtractVGGish(args)\n",
        "\n",
        "for i,dir in enumerate(os.listdir('./sample')):\n",
        "  if dir.endswith('.wav'):\n",
        "    feature_dict = extractor.extract('./sample/' + dir)\n",
        "    #change the '' with the desired path to save at\n",
        "    np.save('./deep_{}_features.npy'.format(i), np.array(feature_dict, dtype=object), allow_pickle=True)"
      ],
      "execution_count": null,
      "outputs": []
    },
    {
      "cell_type": "markdown",
      "source": [
        "# HandCrafted Extractions: Using OpenSmile"
      ],
      "metadata": {
        "id": "fr2Z0JW8zkOV"
      }
    },
    {
      "cell_type": "code",
      "metadata": {
        "id": "ltHMO39gIi0Z",
        "collapsed": true,
        "colab": {
          "base_uri": "https://localhost:8080/"
        },
        "outputId": "6ca1359e-eebc-49fb-922e-d37d13589842"
      },
      "source": [
        "%pip install opensmile\n",
        "\n",
        "%pip install audb"
      ],
      "execution_count": null,
      "outputs": [
        {
          "output_type": "stream",
          "name": "stdout",
          "text": [
            "Collecting opensmile\n",
            "  Downloading opensmile-2.4.2-py3-none-any.whl (4.5 MB)\n",
            "\u001b[?25l     \u001b[90m━━━━━━━━━━━━━━━━━━━━━━━━━━━━━━━━━━━━━━━━\u001b[0m \u001b[32m0.0/4.5 MB\u001b[0m \u001b[31m?\u001b[0m eta \u001b[36m-:--:--\u001b[0m\r\u001b[2K     \u001b[91m━━━━━━━━━━━━━━━━━━\u001b[0m\u001b[91m╸\u001b[0m\u001b[90m━━━━━━━━━━━━━━━━━━━━━\u001b[0m \u001b[32m2.1/4.5 MB\u001b[0m \u001b[31m77.3 MB/s\u001b[0m eta \u001b[36m0:00:01\u001b[0m\r\u001b[2K     \u001b[91m━━━━━━━━━━━━━━━━━━━━━━━━━━━━\u001b[0m\u001b[90m╺\u001b[0m\u001b[90m━━━━━━━━━━━\u001b[0m \u001b[32m3.1/4.5 MB\u001b[0m \u001b[31m52.2 MB/s\u001b[0m eta \u001b[36m0:00:01\u001b[0m\r\u001b[2K     \u001b[91m━━━━━━━━━━━━━━━━━━━━━━━━━━━━━━━━━━━━━━━\u001b[0m\u001b[91m╸\u001b[0m \u001b[32m4.5/4.5 MB\u001b[0m \u001b[31m44.0 MB/s\u001b[0m eta \u001b[36m0:00:01\u001b[0m\r\u001b[2K     \u001b[90m━━━━━━━━━━━━━━━━━━━━━━━━━━━━━━━━━━━━━━━━\u001b[0m \u001b[32m4.5/4.5 MB\u001b[0m \u001b[31m35.5 MB/s\u001b[0m eta \u001b[36m0:00:00\u001b[0m\n",
            "\u001b[?25hRequirement already satisfied: audobject>=0.6.1 in /usr/local/lib/python3.10/dist-packages (from opensmile) (0.7.9)\n",
            "Collecting audinterface>=0.7.0 (from opensmile)\n",
            "  Downloading audinterface-1.0.3-py3-none-any.whl (31 kB)\n",
            "Requirement already satisfied: audformat<2.0.0,>=1.0.1 in /usr/local/lib/python3.10/dist-packages (from audinterface>=0.7.0->opensmile) (1.0.1)\n",
            "Requirement already satisfied: audmath>=1.2.1 in /usr/local/lib/python3.10/dist-packages (from audinterface>=0.7.0->opensmile) (1.2.1)\n",
            "Requirement already satisfied: audresample<2.0.0,>=1.1.0 in /usr/local/lib/python3.10/dist-packages (from audinterface>=0.7.0->opensmile) (1.3.2)\n",
            "Requirement already satisfied: audeer>=1.18.0 in /usr/local/lib/python3.10/dist-packages (from audobject>=0.6.1->opensmile) (1.20.1)\n",
            "Requirement already satisfied: importlib-metadata>=4.8.0 in /usr/local/lib/python3.10/dist-packages (from audobject>=0.6.1->opensmile) (6.8.0)\n",
            "Requirement already satisfied: oyaml in /usr/local/lib/python3.10/dist-packages (from audobject>=0.6.1->opensmile) (1.0)\n",
            "Requirement already satisfied: tqdm in /usr/local/lib/python3.10/dist-packages (from audeer>=1.18.0->audobject>=0.6.1->opensmile) (4.65.0)\n",
            "Requirement already satisfied: audiofile>=0.4.0 in /usr/local/lib/python3.10/dist-packages (from audformat<2.0.0,>=1.0.1->audinterface>=0.7.0->opensmile) (1.2.1)\n",
            "Requirement already satisfied: iso-639 in /usr/local/lib/python3.10/dist-packages (from audformat<2.0.0,>=1.0.1->audinterface>=0.7.0->opensmile) (0.4.5)\n",
            "Requirement already satisfied: iso3166 in /usr/local/lib/python3.10/dist-packages (from audformat<2.0.0,>=1.0.1->audinterface>=0.7.0->opensmile) (2.1.1)\n",
            "Requirement already satisfied: pyyaml>=5.4.1 in /usr/local/lib/python3.10/dist-packages (from audformat<2.0.0,>=1.0.1->audinterface>=0.7.0->opensmile) (6.0)\n",
            "Requirement already satisfied: pandas>=1.4.1 in /usr/local/lib/python3.10/dist-packages (from audformat<2.0.0,>=1.0.1->audinterface>=0.7.0->opensmile) (1.5.3)\n",
            "Requirement already satisfied: numpy in /usr/local/lib/python3.10/dist-packages (from audmath>=1.2.1->audinterface>=0.7.0->opensmile) (1.22.4)\n",
            "Requirement already satisfied: zipp>=0.5 in /usr/local/lib/python3.10/dist-packages (from importlib-metadata>=4.8.0->audobject>=0.6.1->opensmile) (3.15.0)\n",
            "Requirement already satisfied: soundfile in /usr/local/lib/python3.10/dist-packages (from audiofile>=0.4.0->audformat<2.0.0,>=1.0.1->audinterface>=0.7.0->opensmile) (0.12.1)\n",
            "Requirement already satisfied: python-dateutil>=2.8.1 in /usr/local/lib/python3.10/dist-packages (from pandas>=1.4.1->audformat<2.0.0,>=1.0.1->audinterface>=0.7.0->opensmile) (2.8.2)\n",
            "Requirement already satisfied: pytz>=2020.1 in /usr/local/lib/python3.10/dist-packages (from pandas>=1.4.1->audformat<2.0.0,>=1.0.1->audinterface>=0.7.0->opensmile) (2022.7.1)\n",
            "Requirement already satisfied: six>=1.5 in /usr/local/lib/python3.10/dist-packages (from python-dateutil>=2.8.1->pandas>=1.4.1->audformat<2.0.0,>=1.0.1->audinterface>=0.7.0->opensmile) (1.16.0)\n",
            "Requirement already satisfied: cffi>=1.0 in /usr/local/lib/python3.10/dist-packages (from soundfile->audiofile>=0.4.0->audformat<2.0.0,>=1.0.1->audinterface>=0.7.0->opensmile) (1.15.1)\n",
            "Requirement already satisfied: pycparser in /usr/local/lib/python3.10/dist-packages (from cffi>=1.0->soundfile->audiofile>=0.4.0->audformat<2.0.0,>=1.0.1->audinterface>=0.7.0->opensmile) (2.21)\n",
            "Installing collected packages: audinterface, opensmile\n",
            "Successfully installed audinterface-1.0.3 opensmile-2.4.2\n",
            "Requirement already satisfied: audb in /usr/local/lib/python3.10/dist-packages (1.5.1)\n",
            "Requirement already satisfied: audbackend<1.0.0,>=0.3.17 in /usr/local/lib/python3.10/dist-packages (from audb) (0.3.18)\n",
            "Requirement already satisfied: audeer>=1.20.0 in /usr/local/lib/python3.10/dist-packages (from audb) (1.20.1)\n",
            "Requirement already satisfied: audformat>=0.16.1 in /usr/local/lib/python3.10/dist-packages (from audb) (1.0.1)\n",
            "Requirement already satisfied: audiofile>=1.0.0 in /usr/local/lib/python3.10/dist-packages (from audb) (1.2.1)\n",
            "Requirement already satisfied: audobject>=0.5.0 in /usr/local/lib/python3.10/dist-packages (from audb) (0.7.9)\n",
            "Requirement already satisfied: audresample>=0.1.6 in /usr/local/lib/python3.10/dist-packages (from audb) (1.3.2)\n",
            "Requirement already satisfied: filelock in /usr/local/lib/python3.10/dist-packages (from audb) (3.12.2)\n",
            "Requirement already satisfied: oyaml in /usr/local/lib/python3.10/dist-packages (from audb) (1.0)\n",
            "Requirement already satisfied: audfactory>=1.0.12 in /usr/local/lib/python3.10/dist-packages (from audbackend<1.0.0,>=0.3.17->audb) (1.0.12)\n",
            "Requirement already satisfied: tqdm in /usr/local/lib/python3.10/dist-packages (from audeer>=1.20.0->audb) (4.65.0)\n",
            "Requirement already satisfied: iso-639 in /usr/local/lib/python3.10/dist-packages (from audformat>=0.16.1->audb) (0.4.5)\n",
            "Requirement already satisfied: iso3166 in /usr/local/lib/python3.10/dist-packages (from audformat>=0.16.1->audb) (2.1.1)\n",
            "Requirement already satisfied: pyyaml>=5.4.1 in /usr/local/lib/python3.10/dist-packages (from audformat>=0.16.1->audb) (6.0)\n",
            "Requirement already satisfied: pandas>=1.4.1 in /usr/local/lib/python3.10/dist-packages (from audformat>=0.16.1->audb) (1.5.3)\n",
            "Requirement already satisfied: audmath>=1.2.1 in /usr/local/lib/python3.10/dist-packages (from audiofile>=1.0.0->audb) (1.2.1)\n",
            "Requirement already satisfied: numpy in /usr/local/lib/python3.10/dist-packages (from audiofile>=1.0.0->audb) (1.22.4)\n",
            "Requirement already satisfied: soundfile in /usr/local/lib/python3.10/dist-packages (from audiofile>=1.0.0->audb) (0.12.1)\n",
            "Requirement already satisfied: importlib-metadata>=4.8.0 in /usr/local/lib/python3.10/dist-packages (from audobject>=0.5.0->audb) (6.8.0)\n",
            "Requirement already satisfied: dohq-artifactory>=0.8.1 in /usr/local/lib/python3.10/dist-packages (from audfactory>=1.0.12->audbackend<1.0.0,>=0.3.17->audb) (0.9.0)\n",
            "Requirement already satisfied: zipp>=0.5 in /usr/local/lib/python3.10/dist-packages (from importlib-metadata>=4.8.0->audobject>=0.5.0->audb) (3.15.0)\n",
            "Requirement already satisfied: python-dateutil>=2.8.1 in /usr/local/lib/python3.10/dist-packages (from pandas>=1.4.1->audformat>=0.16.1->audb) (2.8.2)\n",
            "Requirement already satisfied: pytz>=2020.1 in /usr/local/lib/python3.10/dist-packages (from pandas>=1.4.1->audformat>=0.16.1->audb) (2022.7.1)\n",
            "Requirement already satisfied: cffi>=1.0 in /usr/local/lib/python3.10/dist-packages (from soundfile->audiofile>=1.0.0->audb) (1.15.1)\n",
            "Requirement already satisfied: pycparser in /usr/local/lib/python3.10/dist-packages (from cffi>=1.0->soundfile->audiofile>=1.0.0->audb) (2.21)\n",
            "Requirement already satisfied: requests>=2.30.0 in /usr/local/lib/python3.10/dist-packages (from dohq-artifactory>=0.8.1->audfactory>=1.0.12->audbackend<1.0.0,>=0.3.17->audb) (2.31.0)\n",
            "Requirement already satisfied: PyJWT~=2.0 in /usr/local/lib/python3.10/dist-packages (from dohq-artifactory>=0.8.1->audfactory>=1.0.12->audbackend<1.0.0,>=0.3.17->audb) (2.7.0)\n",
            "Requirement already satisfied: six>=1.5 in /usr/local/lib/python3.10/dist-packages (from python-dateutil>=2.8.1->pandas>=1.4.1->audformat>=0.16.1->audb) (1.16.0)\n",
            "Requirement already satisfied: charset-normalizer<4,>=2 in /usr/local/lib/python3.10/dist-packages (from requests>=2.30.0->dohq-artifactory>=0.8.1->audfactory>=1.0.12->audbackend<1.0.0,>=0.3.17->audb) (2.0.12)\n",
            "Requirement already satisfied: idna<4,>=2.5 in /usr/local/lib/python3.10/dist-packages (from requests>=2.30.0->dohq-artifactory>=0.8.1->audfactory>=1.0.12->audbackend<1.0.0,>=0.3.17->audb) (3.4)\n",
            "Requirement already satisfied: urllib3<3,>=1.21.1 in /usr/local/lib/python3.10/dist-packages (from requests>=2.30.0->dohq-artifactory>=0.8.1->audfactory>=1.0.12->audbackend<1.0.0,>=0.3.17->audb) (1.26.16)\n",
            "Requirement already satisfied: certifi>=2017.4.17 in /usr/local/lib/python3.10/dist-packages (from requests>=2.30.0->dohq-artifactory>=0.8.1->audfactory>=1.0.12->audbackend<1.0.0,>=0.3.17->audb) (2023.5.7)\n"
          ]
        }
      ]
    },
    {
      "cell_type": "code",
      "source": [
        "import os\n",
        "import time\n",
        "import numpy as np\n",
        "import pandas as pd\n",
        "import audb\n",
        "import audiofile\n",
        "import opensmile\n",
        "\n",
        "\n",
        "smile = opensmile.Smile(\n",
        "    feature_set=opensmile.FeatureSet.ComParE_2016,\n",
        "    feature_level=opensmile.FeatureLevel.Functionals,\n",
        ")\n",
        "#TODO: Change this to audformat to have a better organization of the files\n",
        "\n",
        "audio_folder = 'sample'\n",
        "all_audio = [f for f in os.listdir(audio_folder) if f.endswith('.wav')]\n",
        "all_audio.sort()\n",
        "\n",
        "for file in all_audio:\n",
        "    dur = audiofile.duration(os.path.join(audio_folder,file))\n",
        "    print(dur)\n",
        "    all_features= pd.DataFrame([])\n",
        "\n",
        "    list_steps = np.arange(0.0, dur)\n",
        "    for i in range(len(list_steps)-1):\n",
        "        feature = smile.process_file(\n",
        "                os.path.join(audio_folder,file),\n",
        "                start=list_steps[i],\n",
        "                end=list_steps[i+1],\n",
        "        )\n",
        "        all_features = feature if all_features.empty else all_features.append(feature)\n",
        "    #saves 3 types of files: npy, pickle and csv\n",
        "    #replace with desired folder\n",
        "    save_file_name =  os.path.join('','./','{}_handcrafted.'.format(file))\n",
        "    np.save(save_file_name , np.array(all_features,dtype=object), allow_pickle=True)\n",
        "    all_features.to_pickle(save_file_name+'pkl')\n",
        "    all_features.to_csv(save_file_name+'csv')"
      ],
      "metadata": {
        "id": "UJn963uUzhI9",
        "colab": {
          "base_uri": "https://localhost:8080/"
        },
        "outputId": "16e24383-c2bc-4ad5-e5ac-ed43e7a7acd7"
      },
      "execution_count": null,
      "outputs": [
        {
          "output_type": "stream",
          "name": "stdout",
          "text": [
            "1.7724036281179139\n",
            "29.983061224489795\n"
          ]
        },
        {
          "output_type": "stream",
          "name": "stderr",
          "text": [
            "<ipython-input-22-8a28a9b42c02>:32: FutureWarning: The frame.append method is deprecated and will be removed from pandas in a future version. Use pandas.concat instead.\n",
            "  all_features = feature if all_features.empty else all_features.append(feature)\n",
            "<ipython-input-22-8a28a9b42c02>:32: FutureWarning: The frame.append method is deprecated and will be removed from pandas in a future version. Use pandas.concat instead.\n",
            "  all_features = feature if all_features.empty else all_features.append(feature)\n",
            "<ipython-input-22-8a28a9b42c02>:32: FutureWarning: The frame.append method is deprecated and will be removed from pandas in a future version. Use pandas.concat instead.\n",
            "  all_features = feature if all_features.empty else all_features.append(feature)\n",
            "<ipython-input-22-8a28a9b42c02>:32: FutureWarning: The frame.append method is deprecated and will be removed from pandas in a future version. Use pandas.concat instead.\n",
            "  all_features = feature if all_features.empty else all_features.append(feature)\n",
            "<ipython-input-22-8a28a9b42c02>:32: FutureWarning: The frame.append method is deprecated and will be removed from pandas in a future version. Use pandas.concat instead.\n",
            "  all_features = feature if all_features.empty else all_features.append(feature)\n",
            "<ipython-input-22-8a28a9b42c02>:32: FutureWarning: The frame.append method is deprecated and will be removed from pandas in a future version. Use pandas.concat instead.\n",
            "  all_features = feature if all_features.empty else all_features.append(feature)\n",
            "<ipython-input-22-8a28a9b42c02>:32: FutureWarning: The frame.append method is deprecated and will be removed from pandas in a future version. Use pandas.concat instead.\n",
            "  all_features = feature if all_features.empty else all_features.append(feature)\n",
            "<ipython-input-22-8a28a9b42c02>:32: FutureWarning: The frame.append method is deprecated and will be removed from pandas in a future version. Use pandas.concat instead.\n",
            "  all_features = feature if all_features.empty else all_features.append(feature)\n",
            "<ipython-input-22-8a28a9b42c02>:32: FutureWarning: The frame.append method is deprecated and will be removed from pandas in a future version. Use pandas.concat instead.\n",
            "  all_features = feature if all_features.empty else all_features.append(feature)\n",
            "<ipython-input-22-8a28a9b42c02>:32: FutureWarning: The frame.append method is deprecated and will be removed from pandas in a future version. Use pandas.concat instead.\n",
            "  all_features = feature if all_features.empty else all_features.append(feature)\n",
            "<ipython-input-22-8a28a9b42c02>:32: FutureWarning: The frame.append method is deprecated and will be removed from pandas in a future version. Use pandas.concat instead.\n",
            "  all_features = feature if all_features.empty else all_features.append(feature)\n",
            "<ipython-input-22-8a28a9b42c02>:32: FutureWarning: The frame.append method is deprecated and will be removed from pandas in a future version. Use pandas.concat instead.\n",
            "  all_features = feature if all_features.empty else all_features.append(feature)\n",
            "<ipython-input-22-8a28a9b42c02>:32: FutureWarning: The frame.append method is deprecated and will be removed from pandas in a future version. Use pandas.concat instead.\n",
            "  all_features = feature if all_features.empty else all_features.append(feature)\n",
            "<ipython-input-22-8a28a9b42c02>:32: FutureWarning: The frame.append method is deprecated and will be removed from pandas in a future version. Use pandas.concat instead.\n",
            "  all_features = feature if all_features.empty else all_features.append(feature)\n",
            "<ipython-input-22-8a28a9b42c02>:32: FutureWarning: The frame.append method is deprecated and will be removed from pandas in a future version. Use pandas.concat instead.\n",
            "  all_features = feature if all_features.empty else all_features.append(feature)\n",
            "<ipython-input-22-8a28a9b42c02>:32: FutureWarning: The frame.append method is deprecated and will be removed from pandas in a future version. Use pandas.concat instead.\n",
            "  all_features = feature if all_features.empty else all_features.append(feature)\n",
            "<ipython-input-22-8a28a9b42c02>:32: FutureWarning: The frame.append method is deprecated and will be removed from pandas in a future version. Use pandas.concat instead.\n",
            "  all_features = feature if all_features.empty else all_features.append(feature)\n",
            "<ipython-input-22-8a28a9b42c02>:32: FutureWarning: The frame.append method is deprecated and will be removed from pandas in a future version. Use pandas.concat instead.\n",
            "  all_features = feature if all_features.empty else all_features.append(feature)\n",
            "<ipython-input-22-8a28a9b42c02>:32: FutureWarning: The frame.append method is deprecated and will be removed from pandas in a future version. Use pandas.concat instead.\n",
            "  all_features = feature if all_features.empty else all_features.append(feature)\n",
            "<ipython-input-22-8a28a9b42c02>:32: FutureWarning: The frame.append method is deprecated and will be removed from pandas in a future version. Use pandas.concat instead.\n",
            "  all_features = feature if all_features.empty else all_features.append(feature)\n",
            "<ipython-input-22-8a28a9b42c02>:32: FutureWarning: The frame.append method is deprecated and will be removed from pandas in a future version. Use pandas.concat instead.\n",
            "  all_features = feature if all_features.empty else all_features.append(feature)\n",
            "<ipython-input-22-8a28a9b42c02>:32: FutureWarning: The frame.append method is deprecated and will be removed from pandas in a future version. Use pandas.concat instead.\n",
            "  all_features = feature if all_features.empty else all_features.append(feature)\n",
            "<ipython-input-22-8a28a9b42c02>:32: FutureWarning: The frame.append method is deprecated and will be removed from pandas in a future version. Use pandas.concat instead.\n",
            "  all_features = feature if all_features.empty else all_features.append(feature)\n",
            "<ipython-input-22-8a28a9b42c02>:32: FutureWarning: The frame.append method is deprecated and will be removed from pandas in a future version. Use pandas.concat instead.\n",
            "  all_features = feature if all_features.empty else all_features.append(feature)\n",
            "<ipython-input-22-8a28a9b42c02>:32: FutureWarning: The frame.append method is deprecated and will be removed from pandas in a future version. Use pandas.concat instead.\n",
            "  all_features = feature if all_features.empty else all_features.append(feature)\n",
            "<ipython-input-22-8a28a9b42c02>:32: FutureWarning: The frame.append method is deprecated and will be removed from pandas in a future version. Use pandas.concat instead.\n",
            "  all_features = feature if all_features.empty else all_features.append(feature)\n",
            "<ipython-input-22-8a28a9b42c02>:32: FutureWarning: The frame.append method is deprecated and will be removed from pandas in a future version. Use pandas.concat instead.\n",
            "  all_features = feature if all_features.empty else all_features.append(feature)\n",
            "<ipython-input-22-8a28a9b42c02>:32: FutureWarning: The frame.append method is deprecated and will be removed from pandas in a future version. Use pandas.concat instead.\n",
            "  all_features = feature if all_features.empty else all_features.append(feature)\n"
          ]
        }
      ]
    }
  ]
}