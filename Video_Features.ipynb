{
  "nbformat": 4,
  "nbformat_minor": 0,
  "metadata": {
    "colab": {
      "provenance": [],
      "include_colab_link": true
    },
    "kernelspec": {
      "name": "python3",
      "display_name": "Python 3"
    },
    "language_info": {
      "name": "python"
    },
    "accelerator": "GPU"
  },
  "cells": [
    {
      "cell_type": "markdown",
      "metadata": {
        "id": "view-in-github",
        "colab_type": "text"
      },
      "source": [
        "<a href=\"https://colab.research.google.com/github/jromerooo2/feature_extraction/blob/main/Video_Features.ipynb\" target=\"_parent\"><img src=\"https://colab.research.google.com/assets/colab-badge.svg\" alt=\"Open In Colab\"/></a>"
      ]
    },
    {
      "cell_type": "markdown",
      "source": [
        "# Deep Features using TimeSformer and mmaction2:\n"
      ],
      "metadata": {
        "id": "XfuISCeqEGLh"
      }
    },
    {
      "cell_type": "code",
      "source": [
        "! pip install -U openmim\n",
        "!mim install mmengine mmcv\n",
        "!git clone https://github.com/open-mmlab/mmaction2.git\n",
        "%cd mmaction2\n",
        "!pip install -v -e ."
      ],
      "metadata": {
        "id": "xa6M23_3aXGT"
      },
      "execution_count": null,
      "outputs": []
    },
    {
      "cell_type": "code",
      "source": [
        "from mmaction.apis import inference_recognizer, init_recognizer\n",
        "\n",
        "config_path = 'configs/recognition/timesformer/timesformer_jointST_8xb8-8x32x1-15e_kinetics400-rgb.py'\n",
        "checkpoint_path = 'https://download.openmmlab.com/mmaction/recognition/timesformer/vit_base_patch16_224.pth' # can be a local path\n",
        "img_path = 'demo/demo.mp4'\n",
        "\n",
        "model = init_recognizer(config_path, checkpoint_path, device=\"cpu\")\n",
        "result = inference_recognizer(model, img_path)\n",
        "print(result)"
      ],
      "metadata": {
        "colab": {
          "base_uri": "https://localhost:8080/"
        },
        "id": "cg9ocXUaYzeT",
        "outputId": "d21a499c-6dd6-46dd-e1b5-f2d03899cbe6"
      },
      "execution_count": 34,
      "outputs": [
        {
          "output_type": "stream",
          "name": "stdout",
          "text": [
            "Loads checkpoint by http backend from path: https://download.openmmlab.com/mmaction/recognition/timesformer/vit_base_patch16_224.pth\n",
            "The model and loaded state dict do not match exactly\n",
            "\n",
            "unexpected key in source state_dict: cls_token, pos_embed, patch_embed.projection.weight, patch_embed.projection.bias, transformer_layers.layers.0.norms.0.weight, transformer_layers.layers.0.norms.0.bias, transformer_layers.layers.0.attentions.0.attn.in_proj_weight, transformer_layers.layers.0.attentions.0.attn.in_proj_bias, transformer_layers.layers.0.attentions.0.attn.out_proj.weight, transformer_layers.layers.0.attentions.0.attn.out_proj.bias, transformer_layers.layers.0.norms.1.weight, transformer_layers.layers.0.norms.1.bias, transformer_layers.layers.0.ffns.0.layers.0.0.weight, transformer_layers.layers.0.ffns.0.layers.0.0.bias, transformer_layers.layers.0.ffns.0.layers.1.weight, transformer_layers.layers.0.ffns.0.layers.1.bias, transformer_layers.layers.1.norms.0.weight, transformer_layers.layers.1.norms.0.bias, transformer_layers.layers.1.attentions.0.attn.in_proj_weight, transformer_layers.layers.1.attentions.0.attn.in_proj_bias, transformer_layers.layers.1.attentions.0.attn.out_proj.weight, transformer_layers.layers.1.attentions.0.attn.out_proj.bias, transformer_layers.layers.1.norms.1.weight, transformer_layers.layers.1.norms.1.bias, transformer_layers.layers.1.ffns.0.layers.0.0.weight, transformer_layers.layers.1.ffns.0.layers.0.0.bias, transformer_layers.layers.1.ffns.0.layers.1.weight, transformer_layers.layers.1.ffns.0.layers.1.bias, transformer_layers.layers.2.norms.0.weight, transformer_layers.layers.2.norms.0.bias, transformer_layers.layers.2.attentions.0.attn.in_proj_weight, transformer_layers.layers.2.attentions.0.attn.in_proj_bias, transformer_layers.layers.2.attentions.0.attn.out_proj.weight, transformer_layers.layers.2.attentions.0.attn.out_proj.bias, transformer_layers.layers.2.norms.1.weight, transformer_layers.layers.2.norms.1.bias, transformer_layers.layers.2.ffns.0.layers.0.0.weight, transformer_layers.layers.2.ffns.0.layers.0.0.bias, transformer_layers.layers.2.ffns.0.layers.1.weight, transformer_layers.layers.2.ffns.0.layers.1.bias, transformer_layers.layers.3.norms.0.weight, transformer_layers.layers.3.norms.0.bias, transformer_layers.layers.3.attentions.0.attn.in_proj_weight, transformer_layers.layers.3.attentions.0.attn.in_proj_bias, transformer_layers.layers.3.attentions.0.attn.out_proj.weight, transformer_layers.layers.3.attentions.0.attn.out_proj.bias, transformer_layers.layers.3.norms.1.weight, transformer_layers.layers.3.norms.1.bias, transformer_layers.layers.3.ffns.0.layers.0.0.weight, transformer_layers.layers.3.ffns.0.layers.0.0.bias, transformer_layers.layers.3.ffns.0.layers.1.weight, transformer_layers.layers.3.ffns.0.layers.1.bias, transformer_layers.layers.4.norms.0.weight, transformer_layers.layers.4.norms.0.bias, transformer_layers.layers.4.attentions.0.attn.in_proj_weight, transformer_layers.layers.4.attentions.0.attn.in_proj_bias, transformer_layers.layers.4.attentions.0.attn.out_proj.weight, transformer_layers.layers.4.attentions.0.attn.out_proj.bias, transformer_layers.layers.4.norms.1.weight, transformer_layers.layers.4.norms.1.bias, transformer_layers.layers.4.ffns.0.layers.0.0.weight, transformer_layers.layers.4.ffns.0.layers.0.0.bias, transformer_layers.layers.4.ffns.0.layers.1.weight, transformer_layers.layers.4.ffns.0.layers.1.bias, transformer_layers.layers.5.norms.0.weight, transformer_layers.layers.5.norms.0.bias, transformer_layers.layers.5.attentions.0.attn.in_proj_weight, transformer_layers.layers.5.attentions.0.attn.in_proj_bias, transformer_layers.layers.5.attentions.0.attn.out_proj.weight, transformer_layers.layers.5.attentions.0.attn.out_proj.bias, transformer_layers.layers.5.norms.1.weight, transformer_layers.layers.5.norms.1.bias, transformer_layers.layers.5.ffns.0.layers.0.0.weight, transformer_layers.layers.5.ffns.0.layers.0.0.bias, transformer_layers.layers.5.ffns.0.layers.1.weight, transformer_layers.layers.5.ffns.0.layers.1.bias, transformer_layers.layers.6.norms.0.weight, transformer_layers.layers.6.norms.0.bias, transformer_layers.layers.6.attentions.0.attn.in_proj_weight, transformer_layers.layers.6.attentions.0.attn.in_proj_bias, transformer_layers.layers.6.attentions.0.attn.out_proj.weight, transformer_layers.layers.6.attentions.0.attn.out_proj.bias, transformer_layers.layers.6.norms.1.weight, transformer_layers.layers.6.norms.1.bias, transformer_layers.layers.6.ffns.0.layers.0.0.weight, transformer_layers.layers.6.ffns.0.layers.0.0.bias, transformer_layers.layers.6.ffns.0.layers.1.weight, transformer_layers.layers.6.ffns.0.layers.1.bias, transformer_layers.layers.7.norms.0.weight, transformer_layers.layers.7.norms.0.bias, transformer_layers.layers.7.attentions.0.attn.in_proj_weight, transformer_layers.layers.7.attentions.0.attn.in_proj_bias, transformer_layers.layers.7.attentions.0.attn.out_proj.weight, transformer_layers.layers.7.attentions.0.attn.out_proj.bias, transformer_layers.layers.7.norms.1.weight, transformer_layers.layers.7.norms.1.bias, transformer_layers.layers.7.ffns.0.layers.0.0.weight, transformer_layers.layers.7.ffns.0.layers.0.0.bias, transformer_layers.layers.7.ffns.0.layers.1.weight, transformer_layers.layers.7.ffns.0.layers.1.bias, transformer_layers.layers.8.norms.0.weight, transformer_layers.layers.8.norms.0.bias, transformer_layers.layers.8.attentions.0.attn.in_proj_weight, transformer_layers.layers.8.attentions.0.attn.in_proj_bias, transformer_layers.layers.8.attentions.0.attn.out_proj.weight, transformer_layers.layers.8.attentions.0.attn.out_proj.bias, transformer_layers.layers.8.norms.1.weight, transformer_layers.layers.8.norms.1.bias, transformer_layers.layers.8.ffns.0.layers.0.0.weight, transformer_layers.layers.8.ffns.0.layers.0.0.bias, transformer_layers.layers.8.ffns.0.layers.1.weight, transformer_layers.layers.8.ffns.0.layers.1.bias, transformer_layers.layers.9.norms.0.weight, transformer_layers.layers.9.norms.0.bias, transformer_layers.layers.9.attentions.0.attn.in_proj_weight, transformer_layers.layers.9.attentions.0.attn.in_proj_bias, transformer_layers.layers.9.attentions.0.attn.out_proj.weight, transformer_layers.layers.9.attentions.0.attn.out_proj.bias, transformer_layers.layers.9.norms.1.weight, transformer_layers.layers.9.norms.1.bias, transformer_layers.layers.9.ffns.0.layers.0.0.weight, transformer_layers.layers.9.ffns.0.layers.0.0.bias, transformer_layers.layers.9.ffns.0.layers.1.weight, transformer_layers.layers.9.ffns.0.layers.1.bias, transformer_layers.layers.10.norms.0.weight, transformer_layers.layers.10.norms.0.bias, transformer_layers.layers.10.attentions.0.attn.in_proj_weight, transformer_layers.layers.10.attentions.0.attn.in_proj_bias, transformer_layers.layers.10.attentions.0.attn.out_proj.weight, transformer_layers.layers.10.attentions.0.attn.out_proj.bias, transformer_layers.layers.10.norms.1.weight, transformer_layers.layers.10.norms.1.bias, transformer_layers.layers.10.ffns.0.layers.0.0.weight, transformer_layers.layers.10.ffns.0.layers.0.0.bias, transformer_layers.layers.10.ffns.0.layers.1.weight, transformer_layers.layers.10.ffns.0.layers.1.bias, transformer_layers.layers.11.norms.0.weight, transformer_layers.layers.11.norms.0.bias, transformer_layers.layers.11.attentions.0.attn.in_proj_weight, transformer_layers.layers.11.attentions.0.attn.in_proj_bias, transformer_layers.layers.11.attentions.0.attn.out_proj.weight, transformer_layers.layers.11.attentions.0.attn.out_proj.bias, transformer_layers.layers.11.norms.1.weight, transformer_layers.layers.11.norms.1.bias, transformer_layers.layers.11.ffns.0.layers.0.0.weight, transformer_layers.layers.11.ffns.0.layers.0.0.bias, transformer_layers.layers.11.ffns.0.layers.1.weight, transformer_layers.layers.11.ffns.0.layers.1.bias, norm.weight, norm.bias\n",
            "\n",
            "missing keys in source state_dict: backbone.cls_token, backbone.pos_embed, backbone.time_embed, backbone.patch_embed.projection.weight, backbone.patch_embed.projection.bias, backbone.norm.weight, backbone.norm.bias, backbone.transformer_layers.layers.0.attentions.0.attn.in_proj_weight, backbone.transformer_layers.layers.0.attentions.0.attn.in_proj_bias, backbone.transformer_layers.layers.0.attentions.0.attn.out_proj.weight, backbone.transformer_layers.layers.0.attentions.0.attn.out_proj.bias, backbone.transformer_layers.layers.0.ffns.0.layers.0.0.weight, backbone.transformer_layers.layers.0.ffns.0.layers.0.0.bias, backbone.transformer_layers.layers.0.ffns.0.layers.1.weight, backbone.transformer_layers.layers.0.ffns.0.layers.1.bias, backbone.transformer_layers.layers.0.norms.0.weight, backbone.transformer_layers.layers.0.norms.0.bias, backbone.transformer_layers.layers.0.norms.1.weight, backbone.transformer_layers.layers.0.norms.1.bias, backbone.transformer_layers.layers.1.attentions.0.attn.in_proj_weight, backbone.transformer_layers.layers.1.attentions.0.attn.in_proj_bias, backbone.transformer_layers.layers.1.attentions.0.attn.out_proj.weight, backbone.transformer_layers.layers.1.attentions.0.attn.out_proj.bias, backbone.transformer_layers.layers.1.ffns.0.layers.0.0.weight, backbone.transformer_layers.layers.1.ffns.0.layers.0.0.bias, backbone.transformer_layers.layers.1.ffns.0.layers.1.weight, backbone.transformer_layers.layers.1.ffns.0.layers.1.bias, backbone.transformer_layers.layers.1.norms.0.weight, backbone.transformer_layers.layers.1.norms.0.bias, backbone.transformer_layers.layers.1.norms.1.weight, backbone.transformer_layers.layers.1.norms.1.bias, backbone.transformer_layers.layers.2.attentions.0.attn.in_proj_weight, backbone.transformer_layers.layers.2.attentions.0.attn.in_proj_bias, backbone.transformer_layers.layers.2.attentions.0.attn.out_proj.weight, backbone.transformer_layers.layers.2.attentions.0.attn.out_proj.bias, backbone.transformer_layers.layers.2.ffns.0.layers.0.0.weight, backbone.transformer_layers.layers.2.ffns.0.layers.0.0.bias, backbone.transformer_layers.layers.2.ffns.0.layers.1.weight, backbone.transformer_layers.layers.2.ffns.0.layers.1.bias, backbone.transformer_layers.layers.2.norms.0.weight, backbone.transformer_layers.layers.2.norms.0.bias, backbone.transformer_layers.layers.2.norms.1.weight, backbone.transformer_layers.layers.2.norms.1.bias, backbone.transformer_layers.layers.3.attentions.0.attn.in_proj_weight, backbone.transformer_layers.layers.3.attentions.0.attn.in_proj_bias, backbone.transformer_layers.layers.3.attentions.0.attn.out_proj.weight, backbone.transformer_layers.layers.3.attentions.0.attn.out_proj.bias, backbone.transformer_layers.layers.3.ffns.0.layers.0.0.weight, backbone.transformer_layers.layers.3.ffns.0.layers.0.0.bias, backbone.transformer_layers.layers.3.ffns.0.layers.1.weight, backbone.transformer_layers.layers.3.ffns.0.layers.1.bias, backbone.transformer_layers.layers.3.norms.0.weight, backbone.transformer_layers.layers.3.norms.0.bias, backbone.transformer_layers.layers.3.norms.1.weight, backbone.transformer_layers.layers.3.norms.1.bias, backbone.transformer_layers.layers.4.attentions.0.attn.in_proj_weight, backbone.transformer_layers.layers.4.attentions.0.attn.in_proj_bias, backbone.transformer_layers.layers.4.attentions.0.attn.out_proj.weight, backbone.transformer_layers.layers.4.attentions.0.attn.out_proj.bias, backbone.transformer_layers.layers.4.ffns.0.layers.0.0.weight, backbone.transformer_layers.layers.4.ffns.0.layers.0.0.bias, backbone.transformer_layers.layers.4.ffns.0.layers.1.weight, backbone.transformer_layers.layers.4.ffns.0.layers.1.bias, backbone.transformer_layers.layers.4.norms.0.weight, backbone.transformer_layers.layers.4.norms.0.bias, backbone.transformer_layers.layers.4.norms.1.weight, backbone.transformer_layers.layers.4.norms.1.bias, backbone.transformer_layers.layers.5.attentions.0.attn.in_proj_weight, backbone.transformer_layers.layers.5.attentions.0.attn.in_proj_bias, backbone.transformer_layers.layers.5.attentions.0.attn.out_proj.weight, backbone.transformer_layers.layers.5.attentions.0.attn.out_proj.bias, backbone.transformer_layers.layers.5.ffns.0.layers.0.0.weight, backbone.transformer_layers.layers.5.ffns.0.layers.0.0.bias, backbone.transformer_layers.layers.5.ffns.0.layers.1.weight, backbone.transformer_layers.layers.5.ffns.0.layers.1.bias, backbone.transformer_layers.layers.5.norms.0.weight, backbone.transformer_layers.layers.5.norms.0.bias, backbone.transformer_layers.layers.5.norms.1.weight, backbone.transformer_layers.layers.5.norms.1.bias, backbone.transformer_layers.layers.6.attentions.0.attn.in_proj_weight, backbone.transformer_layers.layers.6.attentions.0.attn.in_proj_bias, backbone.transformer_layers.layers.6.attentions.0.attn.out_proj.weight, backbone.transformer_layers.layers.6.attentions.0.attn.out_proj.bias, backbone.transformer_layers.layers.6.ffns.0.layers.0.0.weight, backbone.transformer_layers.layers.6.ffns.0.layers.0.0.bias, backbone.transformer_layers.layers.6.ffns.0.layers.1.weight, backbone.transformer_layers.layers.6.ffns.0.layers.1.bias, backbone.transformer_layers.layers.6.norms.0.weight, backbone.transformer_layers.layers.6.norms.0.bias, backbone.transformer_layers.layers.6.norms.1.weight, backbone.transformer_layers.layers.6.norms.1.bias, backbone.transformer_layers.layers.7.attentions.0.attn.in_proj_weight, backbone.transformer_layers.layers.7.attentions.0.attn.in_proj_bias, backbone.transformer_layers.layers.7.attentions.0.attn.out_proj.weight, backbone.transformer_layers.layers.7.attentions.0.attn.out_proj.bias, backbone.transformer_layers.layers.7.ffns.0.layers.0.0.weight, backbone.transformer_layers.layers.7.ffns.0.layers.0.0.bias, backbone.transformer_layers.layers.7.ffns.0.layers.1.weight, backbone.transformer_layers.layers.7.ffns.0.layers.1.bias, backbone.transformer_layers.layers.7.norms.0.weight, backbone.transformer_layers.layers.7.norms.0.bias, backbone.transformer_layers.layers.7.norms.1.weight, backbone.transformer_layers.layers.7.norms.1.bias, backbone.transformer_layers.layers.8.attentions.0.attn.in_proj_weight, backbone.transformer_layers.layers.8.attentions.0.attn.in_proj_bias, backbone.transformer_layers.layers.8.attentions.0.attn.out_proj.weight, backbone.transformer_layers.layers.8.attentions.0.attn.out_proj.bias, backbone.transformer_layers.layers.8.ffns.0.layers.0.0.weight, backbone.transformer_layers.layers.8.ffns.0.layers.0.0.bias, backbone.transformer_layers.layers.8.ffns.0.layers.1.weight, backbone.transformer_layers.layers.8.ffns.0.layers.1.bias, backbone.transformer_layers.layers.8.norms.0.weight, backbone.transformer_layers.layers.8.norms.0.bias, backbone.transformer_layers.layers.8.norms.1.weight, backbone.transformer_layers.layers.8.norms.1.bias, backbone.transformer_layers.layers.9.attentions.0.attn.in_proj_weight, backbone.transformer_layers.layers.9.attentions.0.attn.in_proj_bias, backbone.transformer_layers.layers.9.attentions.0.attn.out_proj.weight, backbone.transformer_layers.layers.9.attentions.0.attn.out_proj.bias, backbone.transformer_layers.layers.9.ffns.0.layers.0.0.weight, backbone.transformer_layers.layers.9.ffns.0.layers.0.0.bias, backbone.transformer_layers.layers.9.ffns.0.layers.1.weight, backbone.transformer_layers.layers.9.ffns.0.layers.1.bias, backbone.transformer_layers.layers.9.norms.0.weight, backbone.transformer_layers.layers.9.norms.0.bias, backbone.transformer_layers.layers.9.norms.1.weight, backbone.transformer_layers.layers.9.norms.1.bias, backbone.transformer_layers.layers.10.attentions.0.attn.in_proj_weight, backbone.transformer_layers.layers.10.attentions.0.attn.in_proj_bias, backbone.transformer_layers.layers.10.attentions.0.attn.out_proj.weight, backbone.transformer_layers.layers.10.attentions.0.attn.out_proj.bias, backbone.transformer_layers.layers.10.ffns.0.layers.0.0.weight, backbone.transformer_layers.layers.10.ffns.0.layers.0.0.bias, backbone.transformer_layers.layers.10.ffns.0.layers.1.weight, backbone.transformer_layers.layers.10.ffns.0.layers.1.bias, backbone.transformer_layers.layers.10.norms.0.weight, backbone.transformer_layers.layers.10.norms.0.bias, backbone.transformer_layers.layers.10.norms.1.weight, backbone.transformer_layers.layers.10.norms.1.bias, backbone.transformer_layers.layers.11.attentions.0.attn.in_proj_weight, backbone.transformer_layers.layers.11.attentions.0.attn.in_proj_bias, backbone.transformer_layers.layers.11.attentions.0.attn.out_proj.weight, backbone.transformer_layers.layers.11.attentions.0.attn.out_proj.bias, backbone.transformer_layers.layers.11.ffns.0.layers.0.0.weight, backbone.transformer_layers.layers.11.ffns.0.layers.0.0.bias, backbone.transformer_layers.layers.11.ffns.0.layers.1.weight, backbone.transformer_layers.layers.11.ffns.0.layers.1.bias, backbone.transformer_layers.layers.11.norms.0.weight, backbone.transformer_layers.layers.11.norms.0.bias, backbone.transformer_layers.layers.11.norms.1.weight, backbone.transformer_layers.layers.11.norms.1.bias, cls_head.fc_cls.weight, cls_head.fc_cls.bias\n",
            "\n",
            "<ActionDataSample(\n",
            "\n",
            "    META INFORMATION\n",
            "    img_shape: (224, 224)\n",
            "\n",
            "    DATA FIELDS\n",
            "    pred_scores: <LabelData(\n",
            "        \n",
            "            META INFORMATION\n",
            "        \n",
            "            DATA FIELDS\n",
            "            item: tensor([0.0029, 0.0023, 0.0006, 0.0011, 0.0012, 0.0021, 0.0014, 0.0013, 0.0028,\n",
            "                        0.0042, 0.0012, 0.0009, 0.0017, 0.0023, 0.0024, 0.0028, 0.0039, 0.0020,\n",
            "                        0.0026, 0.0034, 0.0031, 0.0044, 0.0028, 0.0008, 0.0040, 0.0019, 0.0005,\n",
            "                        0.0029, 0.0016, 0.0037, 0.0026, 0.0007, 0.0019, 0.0038, 0.0019, 0.0027,\n",
            "                        0.0025, 0.0011, 0.0006, 0.0036, 0.0016, 0.0009, 0.0018, 0.0015, 0.0014,\n",
            "                        0.0009, 0.0038, 0.0031, 0.0010, 0.0013, 0.0026, 0.0016, 0.0014, 0.0009,\n",
            "                        0.0023, 0.0017, 0.0034, 0.0015, 0.0024, 0.0010, 0.0023, 0.0037, 0.0014,\n",
            "                        0.0035, 0.0043, 0.0046, 0.0014, 0.0079, 0.0049, 0.0035, 0.0025, 0.0025,\n",
            "                        0.0014, 0.0013, 0.0058, 0.0026, 0.0015, 0.0007, 0.0007, 0.0037, 0.0029,\n",
            "                        0.0017, 0.0026, 0.0015, 0.0008, 0.0028, 0.0008, 0.0024, 0.0053, 0.0012,\n",
            "                        0.0015, 0.0021, 0.0037, 0.0015, 0.0030, 0.0014, 0.0028, 0.0009, 0.0013,\n",
            "                        0.0020, 0.0022, 0.0012, 0.0020, 0.0017, 0.0016, 0.0033, 0.0022, 0.0047,\n",
            "                        0.0017, 0.0010, 0.0014, 0.0017, 0.0018, 0.0011, 0.0024, 0.0019, 0.0017,\n",
            "                        0.0012, 0.0013, 0.0018, 0.0020, 0.0032, 0.0019, 0.0009, 0.0037, 0.0007,\n",
            "                        0.0009, 0.0015, 0.0011, 0.0017, 0.0013, 0.0028, 0.0031, 0.0026, 0.0022,\n",
            "                        0.0026, 0.0016, 0.0043, 0.0012, 0.0022, 0.0029, 0.0019, 0.0009, 0.0039,\n",
            "                        0.0012, 0.0027, 0.0013, 0.0034, 0.0016, 0.0031, 0.0048, 0.0018, 0.0019,\n",
            "                        0.0023, 0.0026, 0.0011, 0.0012, 0.0013, 0.0015, 0.0063, 0.0023, 0.0037,\n",
            "                        0.0011, 0.0032, 0.0018, 0.0030, 0.0042, 0.0015, 0.0069, 0.0051, 0.0008,\n",
            "                        0.0028, 0.0023, 0.0024, 0.0008, 0.0033, 0.0069, 0.0015, 0.0036, 0.0046,\n",
            "                        0.0007, 0.0033, 0.0048, 0.0027, 0.0040, 0.0014, 0.0013, 0.0036, 0.0045,\n",
            "                        0.0019, 0.0044, 0.0058, 0.0056, 0.0025, 0.0048, 0.0025, 0.0027, 0.0022,\n",
            "                        0.0025, 0.0027, 0.0021, 0.0012, 0.0014, 0.0044, 0.0103, 0.0041, 0.0022,\n",
            "                        0.0065, 0.0033, 0.0011, 0.0037, 0.0013, 0.0030, 0.0015, 0.0041, 0.0023,\n",
            "                        0.0010, 0.0019, 0.0013, 0.0017, 0.0035, 0.0057, 0.0037, 0.0030, 0.0033,\n",
            "                        0.0008, 0.0027, 0.0028, 0.0014, 0.0018, 0.0020, 0.0038, 0.0044, 0.0031,\n",
            "                        0.0034, 0.0012, 0.0022, 0.0039, 0.0006, 0.0023, 0.0015, 0.0032, 0.0035,\n",
            "                        0.0036, 0.0034, 0.0020, 0.0012, 0.0007, 0.0021, 0.0014, 0.0027, 0.0018,\n",
            "                        0.0034, 0.0009, 0.0014, 0.0012, 0.0030, 0.0009, 0.0010, 0.0035, 0.0018,\n",
            "                        0.0034, 0.0034, 0.0012, 0.0022, 0.0019, 0.0018, 0.0014, 0.0018, 0.0018,\n",
            "                        0.0007, 0.0040, 0.0058, 0.0010, 0.0014, 0.0038, 0.0039, 0.0039, 0.0015,\n",
            "                        0.0014, 0.0024, 0.0021, 0.0062, 0.0063, 0.0028, 0.0033, 0.0013, 0.0017,\n",
            "                        0.0018, 0.0044, 0.0017, 0.0028, 0.0013, 0.0018, 0.0030, 0.0011, 0.0011,\n",
            "                        0.0016, 0.0041, 0.0028, 0.0023, 0.0039, 0.0062, 0.0070, 0.0034, 0.0014,\n",
            "                        0.0023, 0.0028, 0.0019, 0.0039, 0.0019, 0.0016, 0.0016, 0.0018, 0.0012,\n",
            "                        0.0024, 0.0052, 0.0021, 0.0020, 0.0025, 0.0022, 0.0014, 0.0024, 0.0019,\n",
            "                        0.0025, 0.0017, 0.0012, 0.0009, 0.0026, 0.0013, 0.0060, 0.0013, 0.0014,\n",
            "                        0.0037, 0.0033, 0.0017, 0.0023, 0.0016, 0.0033, 0.0021, 0.0021, 0.0033,\n",
            "                        0.0020, 0.0039, 0.0010, 0.0040, 0.0021, 0.0016, 0.0036, 0.0013, 0.0025,\n",
            "                        0.0038, 0.0062, 0.0015, 0.0043, 0.0014, 0.0026, 0.0023, 0.0011, 0.0031,\n",
            "                        0.0021, 0.0011, 0.0015, 0.0058, 0.0023, 0.0014, 0.0011, 0.0007, 0.0012,\n",
            "                        0.0025, 0.0026, 0.0025, 0.0045, 0.0011, 0.0027, 0.0026, 0.0018, 0.0007,\n",
            "                        0.0026, 0.0027, 0.0015, 0.0022, 0.0020, 0.0052, 0.0020, 0.0050, 0.0015,\n",
            "                        0.0014, 0.0052, 0.0024, 0.0021, 0.0049, 0.0027, 0.0014, 0.0025, 0.0081,\n",
            "                        0.0021, 0.0044, 0.0019, 0.0021])\n",
            "        ) at 0x7fd015f44b80>\n",
            "    pred_labels: <LabelData(\n",
            "        \n",
            "            META INFORMATION\n",
            "        \n",
            "            DATA FIELDS\n",
            "            item: tensor([204])\n",
            "        ) at 0x7fd015f44730>\n",
            "    gt_labels: <LabelData(\n",
            "        \n",
            "            META INFORMATION\n",
            "        \n",
            "            DATA FIELDS\n",
            "            item: tensor([-1])\n",
            "        ) at 0x7fd015f46710>\n",
            ") at 0x7fd015f471c0>\n"
          ]
        }
      ]
    },
    {
      "cell_type": "markdown",
      "source": [
        "# Handcrafted features using DLib"
      ],
      "metadata": {
        "id": "LgxRbxztWdOB"
      }
    },
    {
      "cell_type": "code",
      "source": [
        "!pip install dlib"
      ],
      "metadata": {
        "colab": {
          "base_uri": "https://localhost:8080/"
        },
        "id": "RZwfRtTzWmkV",
        "outputId": "96d82fae-892c-4025-8259-cf1516add08e"
      },
      "execution_count": 6,
      "outputs": [
        {
          "output_type": "stream",
          "name": "stdout",
          "text": [
            "Requirement already satisfied: dlib in /usr/local/lib/python3.10/dist-packages (19.24.2)\n"
          ]
        }
      ]
    },
    {
      "cell_type": "code",
      "source": [
        "import sys\n",
        "import os\n",
        "import dlib\n",
        "import glob\n",
        "\n",
        "if len(sys.argv) != 3:\n",
        "    print(\n",
        "        \"Give the path to the trained shape predictor model as the first \"\n",
        "        \"argument and then the directory containing the facial images.\\n\"\n",
        "        \"For example, if you are in the python_examples folder then \"\n",
        "        \"execute this program by running:\\n\"\n",
        "        \"    ./face_landmark_detection.py shape_predictor_68_face_landmarks.dat ../examples/faces\\n\"\n",
        "        \"You can download a trained facial shape predictor from:\\n\"\n",
        "        \"    http://dlib.net/files/shape_predictor_68_face_landmarks.dat.bz2\")\n",
        "    exit()\n",
        "\n",
        "predictor_path = sys.argv[1]\n",
        "faces_folder_path = sys.argv[2]\n",
        "\n",
        "detector = dlib.get_frontal_face_detector()\n",
        "predictor = dlib.shape_predictor(predictor_path)\n",
        "win = dlib.image_window()\n",
        "\n",
        "for f in glob.glob(os.path.join(faces_folder_path, \"*.jpg\")):\n",
        "    print(\"Processing file: {}\".format(f))\n",
        "    img = dlib.load_rgb_image(f)\n",
        "\n",
        "    win.clear_overlay()\n",
        "    win.set_image(img)\n",
        "\n",
        "    # Ask the detector to find the bounding boxes of each face. The 1 in the\n",
        "    # second argument indicates that we should upsample the image 1 time. This\n",
        "    # will make everything bigger and allow us to detect more faces.\n",
        "    dets = detector(img, 1)\n",
        "    print(\"Number of faces detected: {}\".format(len(dets)))\n",
        "    for k, d in enumerate(dets):\n",
        "        print(\"Detection {}: Left: {} Top: {} Right: {} Bottom: {}\".format(\n",
        "            k, d.left(), d.top(), d.right(), d.bottom()))\n",
        "        # Get the landmarks/parts for the face in box d.\n",
        "        shape = predictor(img, d)\n",
        "        print(\"Part 0: {}, Part 1: {} ...\".format(shape.part(0),\n",
        "                                                  shape.part(1)))\n",
        "        # Draw the face landmarks on the screen.\n",
        "        win.add_overlay(shape)\n",
        "\n",
        "    win.add_overlay(dets)\n",
        "    dlib.hit_enter_to_continue()"
      ],
      "metadata": {
        "id": "aLh3VKYaWi9W",
        "colab": {
          "base_uri": "https://localhost:8080/",
          "height": 294
        },
        "outputId": "dd81c2f3-2289-47ad-b5f2-c81280904450"
      },
      "execution_count": 9,
      "outputs": [
        {
          "output_type": "error",
          "ename": "RuntimeError",
          "evalue": "ignored",
          "traceback": [
            "\u001b[0;31m---------------------------------------------------------------------------\u001b[0m",
            "\u001b[0;31mRuntimeError\u001b[0m                              Traceback (most recent call last)",
            "\u001b[0;32m<ipython-input-9-e3a4355e1e94>\u001b[0m in \u001b[0;36m<cell line: 12>\u001b[0;34m()\u001b[0m\n\u001b[1;32m     10\u001b[0m     \u001b[0mexit\u001b[0m\u001b[0;34m(\u001b[0m\u001b[0;34m)\u001b[0m\u001b[0;34m\u001b[0m\u001b[0;34m\u001b[0m\u001b[0m\n\u001b[1;32m     11\u001b[0m \u001b[0;34m\u001b[0m\u001b[0m\n\u001b[0;32m---> 12\u001b[0;31m \u001b[0mcnn_face_detector\u001b[0m \u001b[0;34m=\u001b[0m \u001b[0mdlib\u001b[0m\u001b[0;34m.\u001b[0m\u001b[0mcnn_face_detection_model_v1\u001b[0m\u001b[0;34m(\u001b[0m\u001b[0;34m'shape_predictor_68_face_landmarks.dat'\u001b[0m\u001b[0;34m)\u001b[0m\u001b[0;34m\u001b[0m\u001b[0;34m\u001b[0m\u001b[0m\n\u001b[0m\u001b[1;32m     13\u001b[0m \u001b[0mwin\u001b[0m \u001b[0;34m=\u001b[0m \u001b[0mdlib\u001b[0m\u001b[0;34m.\u001b[0m\u001b[0mimage_window\u001b[0m\u001b[0;34m(\u001b[0m\u001b[0;34m)\u001b[0m\u001b[0;34m\u001b[0m\u001b[0;34m\u001b[0m\u001b[0m\n\u001b[1;32m     14\u001b[0m \u001b[0;34m\u001b[0m\u001b[0m\n",
            "\u001b[0;31mRuntimeError\u001b[0m: An error occurred while trying to read the first object from the file 'shape_predictor_68_face_landmarks.dat'.\nERROR: Error deserializing object of type unsigned long\n   while deserializing object of type std::string\n"
          ]
        }
      ]
    }
  ]
}