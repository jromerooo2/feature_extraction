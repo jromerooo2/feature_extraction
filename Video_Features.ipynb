{
  "nbformat": 4,
  "nbformat_minor": 0,
  "metadata": {
    "colab": {
      "provenance": [],
      "include_colab_link": true
    },
    "kernelspec": {
      "name": "python3",
      "display_name": "Python 3"
    },
    "language_info": {
      "name": "python"
    },
    "accelerator": "GPU"
  },
  "cells": [
    {
      "cell_type": "markdown",
      "metadata": {
        "id": "view-in-github",
        "colab_type": "text"
      },
      "source": [
        "<a href=\"https://colab.research.google.com/github/jromerooo2/feature_extraction/blob/main/Video_Features.ipynb\" target=\"_parent\"><img src=\"https://colab.research.google.com/assets/colab-badge.svg\" alt=\"Open In Colab\"/></a>"
      ]
    },
    {
      "cell_type": "markdown",
      "source": [
        "# Deep Features using (2+1)D.\n",
        "TimeSformer doesn't support the feature extraction, refer to: https://github.com/facebookresearch/TimeSformer/issues/31"
      ],
      "metadata": {
        "id": "DQupZaGNI_pm"
      }
    },
    {
      "cell_type": "code",
      "metadata": {
        "colab": {
          "base_uri": "https://localhost:8080/"
        },
        "id": "Gn1MrAwGGkyY",
        "collapsed": true,
        "outputId": "fe83166f-20c2-4bf4-8daf-4be41f81f826"
      },
      "source": [
        "! git clone https://github.com/v-iashin/video_features.git\n",
        "! pip install omegaconf==2.0.6"
      ],
      "execution_count": 5,
      "outputs": [
        {
          "output_type": "stream",
          "name": "stdout",
          "text": [
            "Cloning into 'video_features'...\n",
            "remote: Enumerating objects: 1299, done.\u001b[K\n",
            "remote: Counting objects: 100% (406/406), done.\u001b[K\n",
            "remote: Compressing objects: 100% (187/187), done.\u001b[K\n",
            "remote: Total 1299 (delta 251), reused 311 (delta 203), pack-reused 893\u001b[K\n",
            "Receiving objects: 100% (1299/1299), 288.63 MiB | 17.09 MiB/s, done.\n",
            "Resolving deltas: 100% (668/668), done.\n",
            "Updating files: 100% (177/177), done.\n",
            "Collecting omegaconf==2.0.6\n",
            "  Using cached omegaconf-2.0.6-py3-none-any.whl (36 kB)\n",
            "Requirement already satisfied: PyYAML>=5.1.* in /usr/local/lib/python3.10/dist-packages (from omegaconf==2.0.6) (6.0)\n",
            "Requirement already satisfied: typing-extensions in /usr/local/lib/python3.10/dist-packages (from omegaconf==2.0.6) (4.6.3)\n",
            "Installing collected packages: omegaconf\n",
            "Successfully installed omegaconf-2.0.6\n"
          ]
        }
      ]
    },
    {
      "cell_type": "code",
      "metadata": {
        "colab": {
          "base_uri": "https://localhost:8080/"
        },
        "id": "Uq-_J-msB8Px",
        "outputId": "8325a932-014d-4e56-84dd-0fda406d863e"
      },
      "source": [
        "%cd video_features"
      ],
      "execution_count": 3,
      "outputs": [
        {
          "output_type": "stream",
          "name": "stdout",
          "text": [
            "/content/video_features\n"
          ]
        }
      ]
    },
    {
      "cell_type": "code",
      "metadata": {
        "id": "6Czo1UciGomZ",
        "colab": {
          "base_uri": "https://localhost:8080/",
          "height": 35
        },
        "outputId": "cbcd354a-5943-46c4-c8cf-b1c475df0131"
      },
      "source": [
        "from models.r21d.extract_r21d import ExtractR21D\n",
        "from utils.utils import build_cfg_path\n",
        "from omegaconf import OmegaConf\n",
        "import torch\n",
        "import numpy as np\n",
        "import os\n",
        "\n",
        "device = 'cuda' if torch.cuda.is_available() else 'cpu'\n",
        "torch.cuda.get_device_name(0)"
      ],
      "execution_count": 10,
      "outputs": [
        {
          "output_type": "execute_result",
          "data": {
            "text/plain": [
              "'Tesla T4'"
            ],
            "application/vnd.google.colaboratory.intrinsic+json": {
              "type": "string"
            }
          },
          "metadata": {},
          "execution_count": 10
        }
      ]
    },
    {
      "cell_type": "code",
      "metadata": {
        "id": "iMwy01A8w9nP"
      },
      "source": [
        "feature_type = 'r21d'\n",
        "\n",
        "args = OmegaConf.load(build_cfg_path(feature_type))\n",
        "# args.video_paths = ['./sample/v_GGSY1Qvo990.mp4']\n",
        "args.model_name = 'r2plus1d_18_16_kinetics'\n",
        "\n",
        "#the ./sample is where the videos should be allocated at\n",
        "for i,dir in enumerate(os.listdir('./sample')):\n",
        "  if dir.endswith('.wav'):\n",
        "    feature_dict = extractor.extract('./sample/' + dir)\n",
        "    #change the '' with the desired path to save at\n",
        "    np.save('./deep_{}_features.npy'.format(i), np.array(feature_dict, dtype=object), allow_pickle=True)"
      ],
      "execution_count": 9,
      "outputs": []
    },
    {
      "cell_type": "markdown",
      "source": [
        "H"
      ],
      "metadata": {
        "id": "XfuISCeqEGLh"
      }
    }
  ]
}